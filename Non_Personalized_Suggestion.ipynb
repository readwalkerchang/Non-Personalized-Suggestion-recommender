{
  "nbformat": 4,
  "nbformat_minor": 0,
  "metadata": {
    "colab": {
      "name": "Non-Personalized Suggestion.ipynb",
      "provenance": [],
      "collapsed_sections": [],
      "authorship_tag": "ABX9TyMnco7LH8ppWomD6eFmf1LP",
      "include_colab_link": true
    },
    "kernelspec": {
      "name": "python3",
      "display_name": "Python 3"
    },
    "language_info": {
      "name": "python"
    }
  },
  "cells": [
    {
      "cell_type": "markdown",
      "metadata": {
        "id": "view-in-github",
        "colab_type": "text"
      },
      "source": [
        "<a href=\"https://colab.research.google.com/github/readwalkerchang/Non-Personalized-Suggestion-recommender/blob/main/Non_Personalized_Suggestion.ipynb\" target=\"_parent\"><img src=\"https://colab.research.google.com/assets/colab-badge.svg\" alt=\"Open In Colab\"/></a>"
      ]
    },
    {
      "cell_type": "markdown",
      "source": [
        "item_df 是擁有 user 和 book_title 兩個欄位的 DataFrame"
      ],
      "metadata": {
        "id": "O_KXNnUiZ4TH"
      }
    },
    {
      "cell_type": "code",
      "source": [
        "import pandas as pd  \n",
        "import numpy as numpy\n",
        "  \n",
        "# assign data of lists.  \n",
        "AchievementData = {'Achievement': ['Maker of the Month', 'Crashed It!', 'Christmas Savior', 'Learning the Basics']}  \n",
        "userdata =  {'UserAchievement': ['Maker of the Month', 'Crashed It!']}  \n",
        "\n",
        "\n",
        "# Create DataFrame  \n",
        "dfAchievementData = pd.DataFrame(AchievementData)  \n",
        "dfuserdata = pd.DataFrame(userdata)  \n",
        "  \n",
        "# Print the output.  \n",
        "print(dfAchievementData)  \n",
        "print(dfuserdata)  "
      ],
      "metadata": {
        "id": "-7sQCF-Sipu_",
        "colab": {
          "base_uri": "https://localhost:8080/"
        },
        "outputId": "c75107ec-dacd-4c3f-bb67-12e252235379"
      },
      "execution_count": null,
      "outputs": [
        {
          "output_type": "stream",
          "name": "stdout",
          "text": [
            "           Achievement\n",
            "0   Maker of the Month\n",
            "1          Crashed It!\n",
            "2     Christmas Savior\n",
            "3  Learning the Basics\n",
            "      UserAchievement\n",
            "0  Maker of the Month\n",
            "1         Crashed It!\n"
          ]
        }
      ]
    },
    {
      "cell_type": "code",
      "source": [
        "from itertools import permutations\n",
        "def create_pairs(item_df):\n",
        "    pairs = permutations(item_df.values, 2) # 從所有的物品裡面隨機不放回抽取 2 個物品\n",
        "    pairs = list(pairs) # 可以直接和上面的程式碼整合在一起，但因為這裡的 permutation 實際上是疊代器，因此需要使用 list 來實例化\n",
        "    pairs = pd.DataFrame(pairs, columns=[\"items_A\", \"items_B\"])\n",
        "    return pairs\n",
        "\n",
        "UserAchievementPairs = create_pairs(dfuserdata)\n",
        "AchievementPairs = create_pairs(dfAchievementData)\n",
        "print(AchievementPairs,'\\n',UserAchievementPairs)"
      ],
      "metadata": {
        "id": "MUAQwJjnZ8_K",
        "colab": {
          "base_uri": "https://localhost:8080/"
        },
        "outputId": "08ab030b-8381-4ecf-a4f6-d99ee1226577"
      },
      "execution_count": null,
      "outputs": [
        {
          "output_type": "stream",
          "name": "stdout",
          "text": [
            "                  items_A                items_B\n",
            "0    [Maker of the Month]          [Crashed It!]\n",
            "1    [Maker of the Month]     [Christmas Savior]\n",
            "2    [Maker of the Month]  [Learning the Basics]\n",
            "3           [Crashed It!]   [Maker of the Month]\n",
            "4           [Crashed It!]     [Christmas Savior]\n",
            "5           [Crashed It!]  [Learning the Basics]\n",
            "6      [Christmas Savior]   [Maker of the Month]\n",
            "7      [Christmas Savior]          [Crashed It!]\n",
            "8      [Christmas Savior]  [Learning the Basics]\n",
            "9   [Learning the Basics]   [Maker of the Month]\n",
            "10  [Learning the Basics]          [Crashed It!]\n",
            "11  [Learning the Basics]     [Christmas Savior] \n",
            "                 items_A               items_B\n",
            "0  [Maker of the Month]         [Crashed It!]\n",
            "1         [Crashed It!]  [Maker of the Month]\n"
          ]
        }
      ]
    },
    {
      "cell_type": "markdown",
      "source": [
        "# Add counts to achievement pairs"
      ],
      "metadata": {
        "id": "_NPUpQZCuT4X"
      }
    },
    {
      "cell_type": "code",
      "source": [
        "#create ramdom number for eash pairs\n",
        "import random\n",
        "randomlist = []\n",
        "for i in range(0,12):\n",
        "  n = random.randint(1,30)\n",
        "  randomlist.append(n)\n",
        "# Declare a list that is to be converted into a column\n",
        " \n",
        "# Using 'Address' as the column name\n",
        "# and equating it to the list\n",
        "AchievementPairs['count'] = randomlist\n",
        "AchievementPairs"
      ],
      "metadata": {
        "colab": {
          "base_uri": "https://localhost:8080/",
          "height": 425
        },
        "id": "V8x1v2cMudSA",
        "outputId": "858b75d9-7a7a-482f-ad4c-430e317cba84"
      },
      "execution_count": null,
      "outputs": [
        {
          "output_type": "execute_result",
          "data": {
            "text/html": [
              "\n",
              "  <div id=\"df-2f7feba4-af81-4262-bf8d-0542f3b338a7\">\n",
              "    <div class=\"colab-df-container\">\n",
              "      <div>\n",
              "<style scoped>\n",
              "    .dataframe tbody tr th:only-of-type {\n",
              "        vertical-align: middle;\n",
              "    }\n",
              "\n",
              "    .dataframe tbody tr th {\n",
              "        vertical-align: top;\n",
              "    }\n",
              "\n",
              "    .dataframe thead th {\n",
              "        text-align: right;\n",
              "    }\n",
              "</style>\n",
              "<table border=\"1\" class=\"dataframe\">\n",
              "  <thead>\n",
              "    <tr style=\"text-align: right;\">\n",
              "      <th></th>\n",
              "      <th>items_A</th>\n",
              "      <th>items_B</th>\n",
              "      <th>count</th>\n",
              "    </tr>\n",
              "  </thead>\n",
              "  <tbody>\n",
              "    <tr>\n",
              "      <th>0</th>\n",
              "      <td>[Maker of the Month]</td>\n",
              "      <td>[Crashed It!]</td>\n",
              "      <td>24</td>\n",
              "    </tr>\n",
              "    <tr>\n",
              "      <th>1</th>\n",
              "      <td>[Maker of the Month]</td>\n",
              "      <td>[Christmas Savior]</td>\n",
              "      <td>12</td>\n",
              "    </tr>\n",
              "    <tr>\n",
              "      <th>2</th>\n",
              "      <td>[Maker of the Month]</td>\n",
              "      <td>[Learning the Basics]</td>\n",
              "      <td>20</td>\n",
              "    </tr>\n",
              "    <tr>\n",
              "      <th>3</th>\n",
              "      <td>[Crashed It!]</td>\n",
              "      <td>[Maker of the Month]</td>\n",
              "      <td>29</td>\n",
              "    </tr>\n",
              "    <tr>\n",
              "      <th>4</th>\n",
              "      <td>[Crashed It!]</td>\n",
              "      <td>[Christmas Savior]</td>\n",
              "      <td>19</td>\n",
              "    </tr>\n",
              "    <tr>\n",
              "      <th>5</th>\n",
              "      <td>[Crashed It!]</td>\n",
              "      <td>[Learning the Basics]</td>\n",
              "      <td>24</td>\n",
              "    </tr>\n",
              "    <tr>\n",
              "      <th>6</th>\n",
              "      <td>[Christmas Savior]</td>\n",
              "      <td>[Maker of the Month]</td>\n",
              "      <td>19</td>\n",
              "    </tr>\n",
              "    <tr>\n",
              "      <th>7</th>\n",
              "      <td>[Christmas Savior]</td>\n",
              "      <td>[Crashed It!]</td>\n",
              "      <td>21</td>\n",
              "    </tr>\n",
              "    <tr>\n",
              "      <th>8</th>\n",
              "      <td>[Christmas Savior]</td>\n",
              "      <td>[Learning the Basics]</td>\n",
              "      <td>29</td>\n",
              "    </tr>\n",
              "    <tr>\n",
              "      <th>9</th>\n",
              "      <td>[Learning the Basics]</td>\n",
              "      <td>[Maker of the Month]</td>\n",
              "      <td>20</td>\n",
              "    </tr>\n",
              "    <tr>\n",
              "      <th>10</th>\n",
              "      <td>[Learning the Basics]</td>\n",
              "      <td>[Crashed It!]</td>\n",
              "      <td>24</td>\n",
              "    </tr>\n",
              "    <tr>\n",
              "      <th>11</th>\n",
              "      <td>[Learning the Basics]</td>\n",
              "      <td>[Christmas Savior]</td>\n",
              "      <td>20</td>\n",
              "    </tr>\n",
              "  </tbody>\n",
              "</table>\n",
              "</div>\n",
              "      <button class=\"colab-df-convert\" onclick=\"convertToInteractive('df-2f7feba4-af81-4262-bf8d-0542f3b338a7')\"\n",
              "              title=\"Convert this dataframe to an interactive table.\"\n",
              "              style=\"display:none;\">\n",
              "        \n",
              "  <svg xmlns=\"http://www.w3.org/2000/svg\" height=\"24px\"viewBox=\"0 0 24 24\"\n",
              "       width=\"24px\">\n",
              "    <path d=\"M0 0h24v24H0V0z\" fill=\"none\"/>\n",
              "    <path d=\"M18.56 5.44l.94 2.06.94-2.06 2.06-.94-2.06-.94-.94-2.06-.94 2.06-2.06.94zm-11 1L8.5 8.5l.94-2.06 2.06-.94-2.06-.94L8.5 2.5l-.94 2.06-2.06.94zm10 10l.94 2.06.94-2.06 2.06-.94-2.06-.94-.94-2.06-.94 2.06-2.06.94z\"/><path d=\"M17.41 7.96l-1.37-1.37c-.4-.4-.92-.59-1.43-.59-.52 0-1.04.2-1.43.59L10.3 9.45l-7.72 7.72c-.78.78-.78 2.05 0 2.83L4 21.41c.39.39.9.59 1.41.59.51 0 1.02-.2 1.41-.59l7.78-7.78 2.81-2.81c.8-.78.8-2.07 0-2.86zM5.41 20L4 18.59l7.72-7.72 1.47 1.35L5.41 20z\"/>\n",
              "  </svg>\n",
              "      </button>\n",
              "      \n",
              "  <style>\n",
              "    .colab-df-container {\n",
              "      display:flex;\n",
              "      flex-wrap:wrap;\n",
              "      gap: 12px;\n",
              "    }\n",
              "\n",
              "    .colab-df-convert {\n",
              "      background-color: #E8F0FE;\n",
              "      border: none;\n",
              "      border-radius: 50%;\n",
              "      cursor: pointer;\n",
              "      display: none;\n",
              "      fill: #1967D2;\n",
              "      height: 32px;\n",
              "      padding: 0 0 0 0;\n",
              "      width: 32px;\n",
              "    }\n",
              "\n",
              "    .colab-df-convert:hover {\n",
              "      background-color: #E2EBFA;\n",
              "      box-shadow: 0px 1px 2px rgba(60, 64, 67, 0.3), 0px 1px 3px 1px rgba(60, 64, 67, 0.15);\n",
              "      fill: #174EA6;\n",
              "    }\n",
              "\n",
              "    [theme=dark] .colab-df-convert {\n",
              "      background-color: #3B4455;\n",
              "      fill: #D2E3FC;\n",
              "    }\n",
              "\n",
              "    [theme=dark] .colab-df-convert:hover {\n",
              "      background-color: #434B5C;\n",
              "      box-shadow: 0px 1px 3px 1px rgba(0, 0, 0, 0.15);\n",
              "      filter: drop-shadow(0px 1px 2px rgba(0, 0, 0, 0.3));\n",
              "      fill: #FFFFFF;\n",
              "    }\n",
              "  </style>\n",
              "\n",
              "      <script>\n",
              "        const buttonEl =\n",
              "          document.querySelector('#df-2f7feba4-af81-4262-bf8d-0542f3b338a7 button.colab-df-convert');\n",
              "        buttonEl.style.display =\n",
              "          google.colab.kernel.accessAllowed ? 'block' : 'none';\n",
              "\n",
              "        async function convertToInteractive(key) {\n",
              "          const element = document.querySelector('#df-2f7feba4-af81-4262-bf8d-0542f3b338a7');\n",
              "          const dataTable =\n",
              "            await google.colab.kernel.invokeFunction('convertToInteractive',\n",
              "                                                     [key], {});\n",
              "          if (!dataTable) return;\n",
              "\n",
              "          const docLinkHtml = 'Like what you see? Visit the ' +\n",
              "            '<a target=\"_blank\" href=https://colab.research.google.com/notebooks/data_table.ipynb>data table notebook</a>'\n",
              "            + ' to learn more about interactive tables.';\n",
              "          element.innerHTML = '';\n",
              "          dataTable['output_type'] = 'display_data';\n",
              "          await google.colab.output.renderOutput(dataTable, element);\n",
              "          const docLink = document.createElement('div');\n",
              "          docLink.innerHTML = docLinkHtml;\n",
              "          element.appendChild(docLink);\n",
              "        }\n",
              "      </script>\n",
              "    </div>\n",
              "  </div>\n",
              "  "
            ],
            "text/plain": [
              "                  items_A                items_B  count\n",
              "0    [Maker of the Month]          [Crashed It!]     24\n",
              "1    [Maker of the Month]     [Christmas Savior]     12\n",
              "2    [Maker of the Month]  [Learning the Basics]     20\n",
              "3           [Crashed It!]   [Maker of the Month]     29\n",
              "4           [Crashed It!]     [Christmas Savior]     19\n",
              "5           [Crashed It!]  [Learning the Basics]     24\n",
              "6      [Christmas Savior]   [Maker of the Month]     19\n",
              "7      [Christmas Savior]          [Crashed It!]     21\n",
              "8      [Christmas Savior]  [Learning the Basics]     29\n",
              "9   [Learning the Basics]   [Maker of the Month]     20\n",
              "10  [Learning the Basics]          [Crashed It!]     24\n",
              "11  [Learning the Basics]     [Christmas Savior]     20"
            ]
          },
          "metadata": {},
          "execution_count": 46
        }
      ]
    },
    {
      "cell_type": "markdown",
      "source": [
        "#Clean the pair list\n",
        "\n",
        " Get the number of rows, columns and elements\n",
        "\n",
        "\n",
        "```\n",
        "Get the number of columns: len(df.columns)\n",
        "Get the number of rows and columns: df.shape\n",
        "Get the number of elements: df.size\n",
        "```\n",
        "\n",
        "\n",
        "Loop through the AchievementPairs and find if the items_A match users items_A by using \n",
        "\n",
        "```\n",
        "update_df.loc[1,\"items_A\"]\n",
        "```\n",
        "\n",
        "\n",
        "If it matches, then see which pair also match item_B\n",
        "If it matches both, delete this row by using:\n",
        "\n",
        "\n",
        "```\n",
        "update_df = AchievementPairs.drop(0)\n",
        "```\n",
        "\n",
        "\n",
        "\n"
      ],
      "metadata": {
        "id": "GaM-KokJjRNO"
      }
    },
    {
      "cell_type": "code",
      "source": [
        "def remove_duplicated_pairs(user_df, service_df):\n",
        "  RemoveList = []\n",
        "  for i in range(len(user_df)) :\n",
        "    for j in range(len(service_df)) :\n",
        "      if user_df.loc[i, \"items_A\"] == service_df.loc[j, \"items_A\"]:\n",
        "        if user_df.loc[i, \"items_B\"] == service_df.loc[j, \"items_B\"]:\n",
        "          RemoveList.append(j)\n",
        "  return RemoveList\n",
        "\n",
        "\n",
        "RemoveList = remove_duplicated_pairs(UserAchievementPairs,AchievementPairs)\n",
        "print(\"Remove:\",RemoveList)\n",
        "update_AchievementPairs = AchievementPairs.drop(RemoveList).reset_index(drop=True)\n",
        "print(update_AchievementPairs)"
      ],
      "metadata": {
        "colab": {
          "base_uri": "https://localhost:8080/"
        },
        "id": "PVIWX9xy3pv_",
        "outputId": "d85618b7-8320-463f-acb3-987feb37d944"
      },
      "execution_count": null,
      "outputs": [
        {
          "output_type": "stream",
          "name": "stdout",
          "text": [
            "Remove: [0, 3]\n",
            "                 items_A                items_B  count\n",
            "0   [Maker of the Month]     [Christmas Savior]     12\n",
            "1   [Maker of the Month]  [Learning the Basics]     20\n",
            "2          [Crashed It!]     [Christmas Savior]     19\n",
            "3          [Crashed It!]  [Learning the Basics]     24\n",
            "4     [Christmas Savior]   [Maker of the Month]     19\n",
            "5     [Christmas Savior]          [Crashed It!]     21\n",
            "6     [Christmas Savior]  [Learning the Basics]     29\n",
            "7  [Learning the Basics]   [Maker of the Month]     20\n",
            "8  [Learning the Basics]          [Crashed It!]     24\n",
            "9  [Learning the Basics]     [Christmas Savior]     20\n"
          ]
        }
      ]
    },
    {
      "cell_type": "code",
      "source": [
        "#If the selection and label A and label B match, remove the row #I'm here\n",
        "#drop same pairs as the user has\n",
        "\n",
        "def remove_duplicated_pairs(user_df, service_df):\n",
        "  RemoveList = []\n",
        "  print('Drop:')\n",
        "  for i in range(len(user_df)) :\n",
        "    for j in range(len(service_df)) :\n",
        "      if user_df.loc[i, \"items_A\"] == service_df.loc[j, \"items_A\"]:\n",
        "        if user_df.loc[i, \"items_B\"] == service_df.loc[j, \"items_B\"]:\n",
        "          RemoveList.append(j)\n",
        "          print(j,service_df.loc[j, \"items_A\"],service_df.loc[j, \"items_B\"])\n",
        "          return RemoveList\n",
        "\n",
        "\n",
        "RemoveList = remove_duplicated_pairs(UserAchievementPairs,AchievementPairs)\n",
        "update_AchievementPairs = AchievementPairs.drop(RemoveList).reset_index(drop=True)\n",
        "print(update_AchievementPairs)"
      ],
      "metadata": {
        "colab": {
          "base_uri": "https://localhost:8080/"
        },
        "id": "t-SBTqO6LfTR",
        "outputId": "706a6e6f-2856-4e6c-8cac-da34b81f18ff"
      },
      "execution_count": null,
      "outputs": [
        {
          "output_type": "stream",
          "name": "stdout",
          "text": [
            "Drop:\n",
            "0 ['Maker of the Month'] ['Crashed It!']\n",
            "                  items_A                items_B  count\n",
            "0    [Maker of the Month]     [Christmas Savior]     12\n",
            "1    [Maker of the Month]  [Learning the Basics]     20\n",
            "2           [Crashed It!]   [Maker of the Month]     29\n",
            "3           [Crashed It!]     [Christmas Savior]     19\n",
            "4           [Crashed It!]  [Learning the Basics]     24\n",
            "5      [Christmas Savior]   [Maker of the Month]     19\n",
            "6      [Christmas Savior]          [Crashed It!]     21\n",
            "7      [Christmas Savior]  [Learning the Basics]     29\n",
            "8   [Learning the Basics]   [Maker of the Month]     20\n",
            "9   [Learning the Basics]          [Crashed It!]     24\n",
            "10  [Learning the Basics]     [Christmas Savior]     20\n"
          ]
        }
      ]
    },
    {
      "cell_type": "markdown",
      "source": [
        "Drop other pair which are not contain use's input\n",
        " - save a new df if items_A match user's input"
      ],
      "metadata": {
        "id": "MdjO8IpzoeKk"
      }
    },
    {
      "cell_type": "code",
      "source": [
        "print((UserAchievementPairs))\n",
        "print((update_AchievementPairs))"
      ],
      "metadata": {
        "id": "T9Z8T46PUsqg",
        "colab": {
          "base_uri": "https://localhost:8080/"
        },
        "outputId": "4478d0bb-7d55-4c5a-cded-fb69536800a0"
      },
      "execution_count": null,
      "outputs": [
        {
          "output_type": "stream",
          "name": "stdout",
          "text": [
            "                items_A               items_B\n",
            "0  [Maker of the Month]         [Crashed It!]\n",
            "1         [Crashed It!]  [Maker of the Month]\n",
            "                  items_A                items_B  count\n",
            "0    [Maker of the Month]     [Christmas Savior]     12\n",
            "1    [Maker of the Month]  [Learning the Basics]     20\n",
            "2           [Crashed It!]   [Maker of the Month]     29\n",
            "3           [Crashed It!]     [Christmas Savior]     19\n",
            "4           [Crashed It!]  [Learning the Basics]     24\n",
            "5      [Christmas Savior]   [Maker of the Month]     19\n",
            "6      [Christmas Savior]          [Crashed It!]     21\n",
            "7      [Christmas Savior]  [Learning the Basics]     29\n",
            "8   [Learning the Basics]   [Maker of the Month]     20\n",
            "9   [Learning the Basics]          [Crashed It!]     24\n",
            "10  [Learning the Basics]     [Christmas Savior]     20\n"
          ]
        }
      ]
    },
    {
      "cell_type": "code",
      "source": [
        "CleanedAchievementData = pd.DataFrame( columns=[\"items_A\", \"items_B\",\"count\"]) \n",
        "trildict = {'items_A': 'A', 'items_B': 'B', 'count': 12}\n",
        "CleanedAchievementData.append(trildict ,ignore_index = True)\n",
        "for i in range(len(UserAchievementPairs)) :\n",
        "  for j in range(len(update_AchievementPairs)) :\n",
        "    if UserAchievementPairs.loc[i, \"items_A\"] == update_AchievementPairs.loc[j, \"items_A\"]:\n",
        "      iteamA = update_AchievementPairs.loc[j, \"items_A\"]\n",
        "      iteamB = update_AchievementPairs.loc[j, \"items_B\"]\n",
        "      count = update_AchievementPairs.loc[j, \"count\"]\n",
        "      newRow = {'items_A': numpy.array2string(iteamA), 'items_B': numpy.array2string(iteamB), 'count': numpy.array2string(count)}\n",
        "      CleanedAchievementData = CleanedAchievementData.append(newRow ,ignore_index = True)\n",
        "\n",
        "\n",
        "print(CleanedAchievementData)  \n",
        "\n"
      ],
      "metadata": {
        "id": "76lgjbZLpviQ",
        "colab": {
          "base_uri": "https://localhost:8080/"
        },
        "outputId": "59c04443-0a42-420d-c99a-58082256ad15"
      },
      "execution_count": null,
      "outputs": [
        {
          "output_type": "stream",
          "name": "stdout",
          "text": [
            "                  items_A                  items_B count\n",
            "0  ['Maker of the Month']     ['Christmas Savior']    12\n",
            "1  ['Maker of the Month']  ['Learning the Basics']    20\n",
            "2         ['Crashed It!']   ['Maker of the Month']    29\n",
            "3         ['Crashed It!']     ['Christmas Savior']    19\n",
            "4         ['Crashed It!']  ['Learning the Basics']    24\n"
          ]
        }
      ]
    },
    {
      "cell_type": "markdown",
      "source": [
        "#Calculating recommendation"
      ],
      "metadata": {
        "id": "eEj5A2hnhTdR"
      }
    },
    {
      "cell_type": "code",
      "source": [
        "# Doing sorting\n",
        "\n",
        "pair_counts_sorted = CleanedAchievementData.sort_values('count', ascending=False)\n",
        "print(pair_counts_sorted)"
      ],
      "metadata": {
        "id": "ypWG4oetDKFe",
        "colab": {
          "base_uri": "https://localhost:8080/"
        },
        "outputId": "068da899-fc30-4def-a8c8-e18235255509"
      },
      "execution_count": null,
      "outputs": [
        {
          "output_type": "stream",
          "name": "stdout",
          "text": [
            "                  items_A                  items_B count\n",
            "2         ['Crashed It!']   ['Maker of the Month']    29\n",
            "4         ['Crashed It!']  ['Learning the Basics']    24\n",
            "1  ['Maker of the Month']  ['Learning the Basics']    20\n",
            "3         ['Crashed It!']     ['Christmas Savior']    19\n",
            "0  ['Maker of the Month']     ['Christmas Savior']    12\n"
          ]
        }
      ]
    },
    {
      "cell_type": "code",
      "source": [
        "#Generate recommendation"
      ],
      "metadata": {
        "id": "_qX2TBwEDkFK"
      },
      "execution_count": null,
      "outputs": []
    }
  ]
}